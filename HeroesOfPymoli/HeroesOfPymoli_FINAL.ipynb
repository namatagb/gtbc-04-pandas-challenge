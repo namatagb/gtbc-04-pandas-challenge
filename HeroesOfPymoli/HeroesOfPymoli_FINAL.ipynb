{
 "cells": [
  {
   "cell_type": "code",
   "execution_count": null,
   "id": "3311a133",
   "metadata": {},
   "outputs": [],
   "source": [
    "# Dependencies and Setup\n",
    "import pandas as pd\n",
    "import numpy as np\n",
    "\n",
    "# File to Load (Remember to Change These)\n",
    "file_to_load = \"Resources/purchase_data.csv\"\n",
    "\n",
    "# Read Purchasing File and store into Pandas data frame\n",
    "purchase_data = pd.read_csv(file_to_load)\n",
    "purchase_data"
   ]
  },
  {
   "cell_type": "code",
   "execution_count": null,
   "id": "d54aff44",
   "metadata": {},
   "outputs": [],
   "source": [
    "total_players_count = len(purchase_data[\"SN\"].value_counts())\n",
    "total_players_df = pd.DataFrame({\n",
    "    \"Total Players\": [total_players_count]\n",
    "})\n",
    "\n",
    "total_players_df\n"
   ]
  },
  {
   "cell_type": "code",
   "execution_count": null,
   "id": "f909a361",
   "metadata": {},
   "outputs": [],
   "source": [
    "purchasing_analysis_df = pd.DataFrame({\n",
    "    \"Number of Unique Items\":[len(purchase_data[\"Item ID\"].value_counts())],\n",
    "    \"Average Price\": [purchase_data[\"Price\"].mean()], \n",
    "    \"Number of Purchases\": [purchase_data[\"Purchase ID\"].count()],\n",
    "    \"Total Revenue\": [purchase_data[\"Price\"].sum()]\n",
    "    \n",
    "})\n",
    "purchasing_analysis_df[\"Average Price\"] = purchasing_analysis_df[\"Average Price\"].map(\"${:.2f}\".format)\n",
    "purchasing_analysis_df[\"Total Revenue\"] = purchasing_analysis_df[\"Total Revenue\"].map(\"${:.2f}\".format)\n",
    "purchasing_analysis_df.round(2)"
   ]
  },
  {
   "cell_type": "code",
   "execution_count": null,
   "id": "8cbbb499",
   "metadata": {},
   "outputs": [],
   "source": [
    "gender_dem_df = pd.DataFrame()\n",
    "\n",
    "gender_dem_df[\"Total Players\"] = purchase_data.groupby([\"Gender\"])[\"SN\"].nunique()\n",
    "gender_dem_df[\"Percentage of Players\"] = (purchase_data.groupby([\"Gender\"])[\"SN\"].nunique()/\n",
    "                                           purchase_data.groupby([\"Gender\"])[\"SN\"].nunique().sum())*100\n",
    "\n",
    "gender_dem_df[\"Percentage of Players\"] = gender_dem_df[\"Percentage of Players\"].map(\"{:.2f}%\".format)\n",
    "gender_dem_df.sort_values(by=[\"Total Players\"], ascending=False)"
   ]
  },
  {
   "cell_type": "code",
   "execution_count": null,
   "id": "cf176059",
   "metadata": {},
   "outputs": [],
   "source": [
    "#create data frame to store gender\n",
    "purchasing_gen_df = pd.DataFrame()\n",
    "\n",
    "#calculate total players for each gender\n",
    "total_players_gen = purchase_data[\"Gender\"].value_counts()\n",
    "purchasing_gen_df[\"Total Players\"] = total_players_gen\n",
    "\n",
    "avg_purchase =  purchase_data.groupby([\"Gender\"])[\"Price\"].mean().round(2).map(\"${:.2f}\".format)\n",
    "purchasing_gen_df[\"Average Purchase Price\"] = avg_purchase\n",
    "\n",
    "total_purchase = purchase_data.groupby([\"Gender\"])[\"Price\"].sum().round(2).map(\"${:.2f}\".format)\n",
    "purchasing_gen_df[\"Total Purchase Value\"] = total_purchase\n",
    "\n",
    "per_person = purchase_data.groupby([\"Gender\"])[\"Price\"].sum()/total_players_gen\n",
    "purchasing_gen_df[\"Avg Total Purchase per Person\"] = per_person\n",
    "\n",
    "purchasing_gen_df.head()"
   ]
  },
  {
   "cell_type": "code",
   "execution_count": null,
   "id": "7fd8cef7",
   "metadata": {},
   "outputs": [],
   "source": [
    "print(purchase_data['Age'].max())\n",
    "print(purchase_data['Age'].min())\n",
    "\n",
    "bins = [0, 9.9, 14.9, 19.9, 24.9, 29.9, 34.9, 39.9, 49.9]\n",
    "age_range = [\"10\", \"10-14\", \"15-19\", \"20-24\", \"25-29\", \"30-34\", \"35-39\", \"40+\"]\n",
    "\n",
    "purchase_data[\"Age Range\"] = pd.cut(purchase_data[\"Age\"], bins, labels=age_range)\n",
    "\n",
    "count_age_group = purchase_data.groupby(\"Age Range\")[\"SN\"].nunique()\n",
    "\n",
    "perc_age_group = (count_age_group/total_players_count)*100\n",
    "\n",
    "age_dem_df = pd.DataFrame({\n",
    "    \"Total Players\" : count_age_group,\n",
    "    \"Percentage of Players\": perc_age_group.round(2).map(\"{:.2f}%\".format)\n",
    "})\n",
    "\n",
    "age_dem_df"
   ]
  },
  {
   "cell_type": "code",
   "execution_count": null,
   "id": "4aa45ac9",
   "metadata": {},
   "outputs": [],
   "source": [
    "most_popular_items = purchase_data[[\"Item ID\",\"Item Name\",\"Price\"]]\n",
    "\n",
    "items_grouped = most_popular_items.groupby([\"Item ID\", \"Item Name\"])\n",
    "\n",
    "count_popular_items = items_grouped[\"Price\"].count()\n",
    "                                    \n",
    "popular_items_sum = (items_grouped[\"Price\"].sum())\n",
    "                                    \n",
    "popular_items_cost = popular_items_sum/count_popular_items\n",
    "                                    \n",
    "most_popular_items_df = pd.DataFrame({\n",
    "    \"Purchase Count\": count_popular_items,\n",
    "    \"Item Price\": popular_items_cost.round(2).map(\"${:.2f}\".format),\n",
    "    \"Total Purchase Value\": popular_items_sum.round(2).map(\"${:.2f}\".format)\n",
    "})\n",
    "\n",
    "most_popular_items_df.sort_values(by='Purchase Count', ascending=False).head(5)"
   ]
  },
  {
   "cell_type": "code",
   "execution_count": null,
   "id": "9eb1aa9b",
   "metadata": {},
   "outputs": [],
   "source": []
  }
 ],
 "metadata": {
  "kernelspec": {
   "display_name": "Python 3",
   "language": "python",
   "name": "python3"
  },
  "language_info": {
   "codemirror_mode": {
    "name": "ipython",
    "version": 3
   },
   "file_extension": ".py",
   "mimetype": "text/x-python",
   "name": "python",
   "nbconvert_exporter": "python",
   "pygments_lexer": "ipython3",
   "version": "3.8.8"
  }
 },
 "nbformat": 4,
 "nbformat_minor": 5
}
